{
 "cells": [
  {
   "cell_type": "code",
   "execution_count": 35,
   "metadata": {},
   "outputs": [
    {
     "name": "stdout",
     "output_type": "stream",
     "text": [
      "\n",
      "image 1/1 /Users/kesh/Documents/GitHub/DarkPatterns/test/test.jpg: 320x640 3 Icons, 21 Images, 23 Texts, 39.2ms\n",
      "Speed: 1.2ms preprocess, 39.2ms inference, 0.4ms postprocess per image at shape (1, 3, 320, 640)\n",
      "tensor([[1393.6549,  847.4094, 1523.9873,  890.3303]])\n"
     ]
    }
   ],
   "source": [
    "from utils.another_helper import get_only_text_bboxes\n",
    "from ultralytics import YOLO\n",
    "\n",
    "model = YOLO(\"runs/detect/train/weights/best.pt\")\n",
    "source = \"test/test.jpg\"\n",
    "\n",
    "bboxes = get_only_text_bboxes(model, source)\n",
    "print(bboxes[4])"
   ]
  },
  {
   "cell_type": "code",
   "execution_count": null,
   "metadata": {},
   "outputs": [],
   "source": []
  },
  {
   "cell_type": "code",
   "execution_count": 36,
   "metadata": {},
   "outputs": [
    {
     "name": "stdout",
     "output_type": "stream",
     "text": [
      "[325.9818115234375, 847.961669921875, 505.6567077636719, 891.9682006835938]\n"
     ]
    }
   ],
   "source": [
    "bb = []\n",
    "for i in bboxes:\n",
    "    bb.append(i.tolist()[0])\n",
    "\n",
    "print(bb[1])"
   ]
  },
  {
   "cell_type": "code",
   "execution_count": 37,
   "metadata": {},
   "outputs": [
    {
     "name": "stdout",
     "output_type": "stream",
     "text": [
      "[[857.9954833984375, 248.54238891601562, 1211.41650390625, 314.69293212890625], [860.4110107421875, 357.33099365234375, 1340.0130615234375, 379.0419006347656], [325.9818115234375, 847.961669921875, 505.6567077636719, 891.9682006835938], [585.1304931640625, 850.752685546875, 766.4241333007812, 886.2340087890625], [1393.6549072265625, 847.409423828125, 1523.9873046875, 890.330322265625], [327.17108154296875, 849.050048828125, 503.2984924316406, 878.4175415039062], [36.56367874145508, 540.585693359375, 257.2926940917969, 562.3521728515625], [583.8275756835938, 852.331298828125, 762.8098754882812, 875.492431640625], [1285.09326171875, 120.34346771240234, 1479.83349609375, 140.9470672607422], [888.488525390625, 858.554931640625, 990.5933837890625, 891.8544921875], [791.0108642578125, 121.18232727050781, 957.7666625976562, 139.15928649902344], [887.1984252929688, 848.7322998046875, 990.7578735351562, 877.0426025390625], [1527.0325927734375, 120.90187072753906, 1663.2105712890625, 138.95501708984375], [638.0545043945312, 121.050048828125, 759.4920654296875, 139.87667846679688], [1151.6434326171875, 850.157470703125, 1241.648681640625, 873.3027954101562], [1146.5400390625, 870.7717895507812, 1242.66162109375, 892.382568359375], [115.72822570800781, 850.2064208984375, 194.27029418945312, 874.8284301757812], [100.14056396484375, 874.666015625, 203.20883178710938, 892.5089111328125], [1000.347900390625, 121.73497009277344, 1096.2633056640625, 140.35032653808594], [507.39471435546875, 120.83389282226562, 593.97705078125, 139.05130004882812], [216.57513427734375, 122.0102310180664, 288.8945007324219, 141.05526733398438], [121.1402816772461, 850.3460083007812, 189.5736083984375, 869.9437255859375], [369.93621826171875, 121.22470092773438, 431.4141845703125, 139.91598510742188]]\n"
     ]
    }
   ],
   "source": [
    "sorted_bb = sorted(bb, key=lambda bbox: (bbox[2] - bbox[0]) * (bbox[3] - bbox[1]))[::-1]\n",
    "print(sorted_bb)"
   ]
  },
  {
   "cell_type": "code",
   "execution_count": 38,
   "metadata": {},
   "outputs": [
    {
     "name": "stdout",
     "output_type": "stream",
     "text": [
      "23378.992489445955\n",
      "10412.595513090491\n",
      "7906.868848504499\n",
      "6432.538247443736\n",
      "5593.983594536781\n",
      "5172.420449277386\n",
      "4804.493585953955\n",
      "4145.43281686306\n",
      "4012.3498050123453\n",
      "3400.046914368868\n",
      "2997.7621878739446\n",
      "2931.799330741167\n",
      "2458.4409774653614\n",
      "2286.2599858324975\n",
      "2083.2007139846683\n",
      "2077.2622480094433\n",
      "1933.8635388119146\n",
      "1839.036332923919\n",
      "1785.4994577616453\n",
      "1577.305681295693\n",
      "1377.3249604811426\n",
      "1341.136989964638\n",
      "1149.1021390631795\n"
     ]
    }
   ],
   "source": [
    "import cv2\n",
    "\n",
    "def crop_image(image, coords):\n",
    "    x1, y1, x2, y2 = coords\n",
    "    print((x2 - x1) * (y2 - y1))\n",
    "    cropped_image = image[int(y1):int(y2), int(x1):int(x2)]\n",
    "    #plt.imshow(cropped_image)\n",
    "    #plt.show()\n",
    "    return cropped_image\n",
    "\n",
    "img = cv2.imread('test/test.jpg')\n",
    "im_list= []\n",
    "for i in sorted_bb:\n",
    "    im_list.append(crop_image(img, i))\n",
    "\n",
    "import matplotlib.pyplot as plt\n",
    "\n",
    "# Set matplotlib to display plots inline\n",
    "%matplotlib inline\n",
    "\n",
    "# Display the imag"
   ]
  },
  {
   "cell_type": "code",
   "execution_count": 39,
   "metadata": {},
   "outputs": [
    {
     "name": "stdout",
     "output_type": "stream",
     "text": [
      "['Redmi Note 13 Pro 5G Series\\nFrom =23,.999*\\n', '1.5k Curved AMOLED | Flaaship IP68 Protection\\n', 'Pendrives & SD Cards\\nFrom 7229\\n', 'Premium PowerBanks\\n\\na ay\\n', 'Best of Shavers\\nfrom 71 G49\\n', 'Pendrives & SD Cards\\n', 'Best of Electronics\\n', 'Premium PowerBanks\\n', 'Beauty, Toys & More v\\n', '20 MEMetS\\nErom 27179\\n', 'Home & Furniture Y\\n', 'JSB Gadgets\\n', 'Two Wheelers v\\n', 'Electronics Vv\\n', 'Projectors\\n', 'Erom 29996\\n', 'Printers\\n', 'From 73999\\n', 'Appliances\\n', 'Fashion v\\n', 'Grocery\\n', 'Printers.\\n', 'Mobiles\\n']\n"
     ]
    }
   ],
   "source": [
    "import pytesseract\n",
    "\n",
    "text_list = []\n",
    "for image in im_list:\n",
    "    text = pytesseract.image_to_string(image)\n",
    "    text_list.append(text)\n",
    "\n",
    "print(text_list)\n"
   ]
  },
  {
   "cell_type": "code",
   "execution_count": 40,
   "metadata": {},
   "outputs": [],
   "source": [
    "import languagemodels as lm \n",
    "\n",
    "text_list = [p for p in text_list if any(char.isdigit() for char in p)]\n",
    "\n",
    "price = []\n",
    "for text in text_list:\n",
    "    result = lm.do(\"What is the price in the following line, note sometimes it's not formatted and maybe werid, pls return empty if ther's no price seen\" + text)\n",
    "    price.append(result)\n"
   ]
  },
  {
   "cell_type": "code",
   "execution_count": 41,
   "metadata": {},
   "outputs": [
    {
     "name": "stdout",
     "output_type": "stream",
     "text": [
      "['The price in the line is not provided.', \"I'm sorry, but the price in the line is not provided. Please provide more information or context for me to assist you better.\", \"I'm sorry, but the price in the line is not provided. Please provide more information or context so that I can assist you better.\", \"I'm sorry, but the price in the line is not provided. Please provide more information or context so that I can assist you better.\", \"I'm sorry, but the price in the line is not provided. Please provide more information or context so that I can assist you better.\", \"I'm sorry, but the price in the line is not provided. Please provide more information or context for me to assist you better.\", \"I'm sorry, but the price in the line is not provided. Please provide more information or context so that I can assist you better.\"]\n",
      "[]\n"
     ]
    }
   ],
   "source": [
    "print(price)\n",
    "\n",
    "price = [p for p in price if any(char.isdigit() for char in p)]\n",
    "print(price)"
   ]
  },
  {
   "cell_type": "code",
   "execution_count": 44,
   "metadata": {},
   "outputs": [
    {
     "name": "stdout",
     "output_type": "stream",
     "text": [
      "\n",
      "image 1/1 /Users/kesh/Documents/GitHub/DarkPatterns/test/test.jpg: 320x640 3 Icons, 21 Images, 23 Texts, 41.3ms\n",
      "Speed: 1.2ms preprocess, 41.3ms inference, 0.5ms postprocess per image at shape (1, 3, 320, 640)\n",
      "23378.992489445955\n",
      "10412.595513090491\n",
      "7906.868848504499\n",
      "6432.538247443736\n",
      "5593.983594536781\n",
      "5172.420449277386\n",
      "4804.493585953955\n",
      "4145.43281686306\n",
      "4012.3498050123453\n",
      "3400.046914368868\n",
      "2997.7621878739446\n",
      "2931.799330741167\n",
      "2458.4409774653614\n",
      "2286.2599858324975\n",
      "2083.2007139846683\n",
      "2077.2622480094433\n",
      "1933.8635388119146\n",
      "1839.036332923919\n",
      "1785.4994577616453\n",
      "1577.305681295693\n",
      "1377.3249604811426\n",
      "1341.136989964638\n",
      "1149.1021390631795\n",
      "res:  0\n"
     ]
    }
   ],
   "source": [
    "import re\n",
    "def highest_price(image):\n",
    "    model = YOLO(\"runs/detect/train/weights/best.pt\")\n",
    "    bboxes = get_only_text_bboxes(model, image)\n",
    "    bb = []\n",
    "    for i in bboxes:\n",
    "        bb.append(i.tolist()[0])\n",
    "    sorted_bb = sorted(bb, key=lambda bbox: (bbox[2] - bbox[0]) * (bbox[3] - bbox[1]))[::-1]\n",
    "    img = cv2.imread('test/test.jpg')\n",
    "    im_list= []\n",
    "    for i in sorted_bb:\n",
    "        im_list.append(crop_image(img, i))\n",
    "    text_list = []\n",
    "    for image in im_list:\n",
    "        text = pytesseract.image_to_string(image)\n",
    "        text_list.append(text)\n",
    "    text_list = [p for p in text_list if any(char.isdigit() for char in p)]\n",
    "    price = []\n",
    "    for text in text_list:\n",
    "        result = lm.do(\"What is the price in the following line, note sometimes it's not formatted and maybe werid, pls return empty if ther's no price seen\" + text)\n",
    "        price.append(result)\n",
    "    price = [p for p in price if any(char.isdigit() for char in p)]\n",
    "    digits = 0\n",
    "    for p in price:\n",
    "        match = re.search(r'\\d+', p)\n",
    "        if match:\n",
    "            digits = match.group()\n",
    "            break\n",
    "\n",
    "    return digits\n",
    "    \n",
    "print(\"res: \", highest_price(\"test/test.jpg\"))\n",
    "    "
   ]
  }
 ],
 "metadata": {
  "kernelspec": {
   "display_name": "Python 3",
   "language": "python",
   "name": "python3"
  },
  "language_info": {
   "codemirror_mode": {
    "name": "ipython",
    "version": 3
   },
   "file_extension": ".py",
   "mimetype": "text/x-python",
   "name": "python",
   "nbconvert_exporter": "python",
   "pygments_lexer": "ipython3",
   "version": "3.9.6"
  }
 },
 "nbformat": 4,
 "nbformat_minor": 2
}
